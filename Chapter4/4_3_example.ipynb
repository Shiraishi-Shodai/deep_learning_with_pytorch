{
 "cells": [
  {
   "cell_type": "markdown",
   "metadata": {},
   "source": [
    "# 表形式のデータ"
   ]
  },
  {
   "cell_type": "markdown",
   "metadata": {},
   "source": [
    "## データの種類\n",
    "**原点がない、または絶対的なゼロがないとは**  \n",
    "何もない状態、つまり「ゼロ」が実際に「何もない」という意味を持つ点のことです。これを小学生にもわかるように例を交えて説明しましょう。\n",
    "\n",
    "例: 重さ\n",
    "絶対的なゼロ点の例: 「重さ」を考えてみましょう。もし何も持っていない状態、つまり手が空っぽなら、その重さは「0kg」です。これが絶対的なゼロ点です。ここから重さを測るときは、この「何もない状態」がスタートポイントになります。\n",
    "例: 温度\n",
    "絶対的なゼロ点がない例: 一方で、「温度」は絶対的なゼロ点がない場合があります。例えば、摂氏での温度は、0度が「水が凍る温度」を意味しますが、これは「温度が全くない状態」ではありません。実際、温度はマイナスにもなりますし、0度よりも低い温度が存在します。しかし、絶対温度（ケルビン）では、0ケルビンは絶対ゼロと呼ばれ、これは温度が「全くない状態」を意味します。\n",
    "理解のための簡単なまとめ\n",
    "絶対的なゼロ点あり: 何もない状態から数え始めることができる（例: 重さが0kgは何もない状態）。\n",
    "絶対的なゼロ点なし: 0が特定の意味を持つが、それは「何もない状態」ではない（例: 0度は水が凍る温度だが、温度が「全くない」わけではない）。  \n",
    "\n",
    "**間隔尺度と順序尺度の違い**  \n",
    "間隔尺度は間隔が一定であり、順序尺度は間隔が一定ではない  \n",
    "\n",
    "例: 温度計\n",
    "温度計を例にとって説明しましょう。摂氏での温度計では、10度と20度の差（10度の間隔）は、30度と40度の差（同じく10度の間隔）と等しいです。つまり、温度計上のどの二点を取っても、それらの点間の差は一定です。\n",
    "\n",
    "重要性\n",
    "この特性は、データを分析し解釈する際に重要です。例えば、間隔尺度のデータでは、加算や減算が意味を成しますが、乗算や除算は意味を成しません。なぜなら、間隔尺度には絶対ゼロ点がないからです。絶対ゼロ点があれば、乗算や除算が意味を持ちます（これは比例尺度の特性です）。\n",
    "\n",
    "比較: 順序尺度\n",
    "これとは対照的に、順序尺度では間の差は一定ではありません。順序尺度では、要素間に順序（ランキング）はありますが、それらの間の具体的な「差」は定義されていないのです。たとえば、映画の評価（☆1つ、☆2つ、☆3つ）では、☆2つと☆3つの間の「質」の差は、☆1つと☆2つの間のそれとは異なるかもしれません。"
   ]
  },
  {
   "cell_type": "markdown",
   "metadata": {},
   "source": [
    "![データの種類](https://assets.st-note.com/production/uploads/images/48751565/picture_pc_104891899e5cc7b7e4b35e8e23ba3b6d.png)"
   ]
  },
  {
   "cell_type": "code",
   "execution_count": 2,
   "metadata": {},
   "outputs": [],
   "source": [
    "import torch"
   ]
  },
  {
   "cell_type": "markdown",
   "metadata": {},
   "source": [
    "## ワインデータをテンソルとして読み込む"
   ]
  },
  {
   "cell_type": "code",
   "execution_count": 3,
   "metadata": {},
   "outputs": [
    {
     "data": {
      "text/plain": [
       "((4898, 12),\n",
       " ['fixed acidity',\n",
       "  'volatile acidity',\n",
       "  'citric acid',\n",
       "  'residual sugar',\n",
       "  'chlorides',\n",
       "  'free sulfur dioxide',\n",
       "  'total sulfur dioxide',\n",
       "  'density',\n",
       "  'pH',\n",
       "  'sulphates',\n",
       "  'alcohol',\n",
       "  'quality'])"
      ]
     },
     "execution_count": 3,
     "metadata": {},
     "output_type": "execute_result"
    }
   ],
   "source": [
    "import numpy as np\n",
    "import csv\n",
    "\n",
    "wine_path = r'C:\\Users\\shodai\\Desktop\\PyTorch_Introduction\\data\\p1ch4\\tabular-wine\\winequality-white.csv'\n",
    "wineq_numpy = np.loadtxt(wine_path, dtype=np.float32, delimiter=';', skiprows=1)\n",
    "# print(wineq_numpy)\n",
    "\n",
    "col_list = next(csv.reader(open(wine_path), delimiter=';'))\n",
    "wineq_numpy.shape, col_list"
   ]
  },
  {
   "cell_type": "markdown",
   "metadata": {},
   "source": [
    "## Numpyをテンソルに変換"
   ]
  },
  {
   "cell_type": "code",
   "execution_count": 4,
   "metadata": {},
   "outputs": [
    {
     "data": {
      "text/plain": [
       "torch.Size([4898, 12])"
      ]
     },
     "execution_count": 4,
     "metadata": {},
     "output_type": "execute_result"
    }
   ],
   "source": [
    "wineq = torch.from_numpy(wineq_numpy)\n",
    "wineq.shape"
   ]
  },
  {
   "cell_type": "markdown",
   "metadata": {},
   "source": [
    "## スコアの表現"
   ]
  },
  {
   "cell_type": "markdown",
   "metadata": {},
   "source": [
    "### 説明変数と目的変数の分離"
   ]
  },
  {
   "cell_type": "code",
   "execution_count": 5,
   "metadata": {},
   "outputs": [
    {
     "name": "stdout",
     "output_type": "stream",
     "text": [
      "tensor([6., 6., 6.,  ..., 6., 7., 6.])\n",
      "torch.Size([4898, 11])\n"
     ]
    }
   ],
   "source": [
    "target = wineq[:, -1]\n",
    "data = wineq[:, :-1]\n",
    "print(target)\n",
    "print(data.shape)"
   ]
  },
  {
   "cell_type": "markdown",
   "metadata": {},
   "source": [
    "### スコアの表現方法　➀整数ラベルとして表現"
   ]
  },
  {
   "cell_type": "code",
   "execution_count": 17,
   "metadata": {},
   "outputs": [
    {
     "name": "stdout",
     "output_type": "stream",
     "text": [
      "tensor([6, 6, 6,  ..., 6, 7, 6])\n"
     ]
    }
   ],
   "source": [
    "target1 = target.long()\n",
    "print(target1)"
   ]
  },
  {
   "cell_type": "markdown",
   "metadata": {},
   "source": [
    "### スコアの表現方法　➁ワンホットエンコードとして表現\n",
    "※ ネットワークに対してスコアをカテゴリカル変数として扱う時は、スコアをワンホットエンコードに変換しなければいけない"
   ]
  },
  {
   "cell_type": "code",
   "execution_count": 22,
   "metadata": {},
   "outputs": [
    {
     "name": "stdout",
     "output_type": "stream",
     "text": [
      "torch.Size([4898])\n",
      "torch.Size([4898, 10])\n",
      "torch.Size([4898, 1])\n",
      "torch.Size([4898, 10])\n"
     ]
    }
   ],
   "source": [
    "target2 = target.long()\n",
    "print(target2.shape)\n",
    "\n",
    "target_onehot = torch.zeros(target2.shape[0], 10)\n",
    "print(target_onehot.shape)\n",
    "print(target2.unsqueeze(1).shape)\n",
    "\n",
    "target_onehot.scatter_(1, target2.unsqueeze(1), 1.0) # scatter_の第二引数はワンホットエンコードするテンソルと同じ次元でないといけない\n",
    "print(target_onehot.shape)"
   ]
  },
  {
   "cell_type": "markdown",
   "metadata": {},
   "source": [
    "## 正規化"
   ]
  },
  {
   "cell_type": "code",
   "execution_count": 7,
   "metadata": {},
   "outputs": [
    {
     "name": "stdout",
     "output_type": "stream",
     "text": [
      "tensor([[ 1.7208e-01, -8.1761e-02,  2.1326e-01,  ..., -1.2468e+00,\n",
      "         -3.4915e-01, -1.3930e+00],\n",
      "        [-6.5743e-01,  2.1587e-01,  4.7996e-02,  ...,  7.3995e-01,\n",
      "          1.3422e-03, -8.2419e-01],\n",
      "        [ 1.4756e+00,  1.7450e-02,  5.4378e-01,  ...,  4.7505e-01,\n",
      "         -4.3677e-01, -3.3663e-01],\n",
      "        ...,\n",
      "        [-4.2043e-01, -3.7940e-01, -1.1915e+00,  ..., -1.3130e+00,\n",
      "         -2.6153e-01, -9.0545e-01],\n",
      "        [-1.6054e+00,  1.1666e-01, -2.8253e-01,  ...,  1.0049e+00,\n",
      "         -9.6251e-01,  1.8574e+00],\n",
      "        [-1.0129e+00, -6.7703e-01,  3.7852e-01,  ...,  4.7505e-01,\n",
      "         -1.4882e+00,  1.0448e+00]])\n"
     ]
    }
   ],
   "source": [
    "data_mean = torch.mean(data, dim=0)\n",
    "data_std = torch.std(data, dim=0)\n",
    "# print(data_mean)\n",
    "# print(data_std)\n",
    "data_normalized = (data - data_mean) / data_std\n",
    "# print(data_normalized)"
   ]
  },
  {
   "cell_type": "markdown",
   "metadata": {},
   "source": [
    "## しきい値"
   ]
  },
  {
   "cell_type": "code",
   "execution_count": 9,
   "metadata": {},
   "outputs": [
    {
     "data": {
      "text/plain": [
       "(torch.Size([4898]), torch.bool, tensor(20))"
      ]
     },
     "execution_count": 9,
     "metadata": {},
     "output_type": "execute_result"
    }
   ],
   "source": [
    "bad_indexes = target <= 3\n",
    "# print(bad_indexes) # bool値のリスト\n",
    "\n",
    "bad_indexes.shape, bad_indexes.dtype, bad_indexes.sum()"
   ]
  },
  {
   "cell_type": "code",
   "execution_count": 10,
   "metadata": {},
   "outputs": [
    {
     "data": {
      "text/plain": [
       "torch.Size([20, 11])"
      ]
     },
     "execution_count": 10,
     "metadata": {},
     "output_type": "execute_result"
    }
   ],
   "source": [
    "bad_data = data[bad_indexes]\n",
    "bad_data.shape"
   ]
  },
  {
   "cell_type": "code",
   "execution_count": 16,
   "metadata": {},
   "outputs": [
    {
     "name": "stdout",
     "output_type": "stream",
     "text": [
      " 0 fixed acidity          7.60   6.89   6.73\n",
      " 1 volatile acidity       0.33   0.28   0.27\n",
      " 2 citric acid            0.34   0.34   0.33\n",
      " 3 residual sugar         6.39   6.71   5.26\n",
      " 4 chlorides              0.05   0.05   0.04\n",
      " 5 free sulfur dioxide   53.33  35.42  34.55\n",
      " 6 total sulfur dioxide 170.60 141.83 125.25\n",
      " 7 density                0.99   0.99   0.99\n",
      " 8 pH                     3.19   3.18   3.22\n",
      " 9 sulphates              0.47   0.49   0.50\n",
      "10 alcohol               10.34  10.26  11.42\n"
     ]
    }
   ],
   "source": [
    "bad_data = data[target <= 3]\n",
    "mid_data = data[(target > 3) & (target < 7)]\n",
    "good_data = data[target >= 7]\n",
    "\n",
    "# NumpyやPyTorchで&は論理演算のandを表す\n",
    "\n",
    "bad_mean = torch.mean(bad_data, dim=0)\n",
    "mid_mean = torch.mean(mid_data, dim=0)\n",
    "good_mean = torch.mean(good_data, dim=0)\n",
    "\n",
    "for i, args in enumerate(zip(col_list, bad_mean, mid_mean, good_mean)):\n",
    "    print('{:2} {:20} {:6.2f} {:6.2f} {:6.2f}'.format(i, *args))"
   ]
  },
  {
   "cell_type": "code",
   "execution_count": 21,
   "metadata": {},
   "outputs": [
    {
     "name": "stdout",
     "output_type": "stream",
     "text": [
      "torch.Size([4898]) torch.bool tensor(2727)\n"
     ]
    }
   ],
   "source": [
    "total_sulfur_threshold = 141.83\n",
    "total_sulfur_data = data[:, 6]\n",
    "\n",
    "# total_sulfur_dataの内、141.1以下であるか示すブール値を返却\n",
    "predicted_indexes = torch.lt(total_sulfur_data, total_sulfur_threshold)\n",
    "\n",
    "print(predicted_indexes.shape, predicted_indexes.dtype, predicted_indexes.sum())"
   ]
  },
  {
   "cell_type": "code",
   "execution_count": 20,
   "metadata": {},
   "outputs": [
    {
     "data": {
      "text/plain": [
       "(torch.Size([4898]), torch.bool, tensor(3258))"
      ]
     },
     "execution_count": 20,
     "metadata": {},
     "output_type": "execute_result"
    }
   ],
   "source": [
    "actual_indexes = target > 5\n",
    "actual_indexes.shape, actual_indexes.dtype, actual_indexes.sum()"
   ]
  },
  {
   "cell_type": "markdown",
   "metadata": {},
   "source": [
    "## 予測の評価"
   ]
  },
  {
   "cell_type": "code",
   "execution_count": 37,
   "metadata": {},
   "outputs": [
    {
     "name": "stdout",
     "output_type": "stream",
     "text": [
      "2018\n",
      "2727\n",
      "3258\n",
      "予測したものの内、0.74000733406674 % が実際に高品質なワインだった\n",
      "正解の内、0.6193984039287906 % を特定した\n"
     ]
    }
   ],
   "source": [
    "# 予測したものと正解のものの内、共通するインデックスを取得\n",
    "n_matches = torch.sum(predicted_indexes & actual_indexes).item()\n",
    "n_predicted = torch.sum(predicted_indexes).item()\n",
    "n_actual = torch.sum(actual_indexes).item()\n",
    "\n",
    "print(n_matches)\n",
    "print(n_predicted)\n",
    "print(n_actual)\n",
    "\n",
    "print(f'予測したものの内、{n_matches / n_predicted} % が実際に高品質なワインだった')\n",
    "print(f'正解の内、{n_matches / n_actual} % を特定した')\n",
    "      \n"
   ]
  }
 ],
 "metadata": {
  "kernelspec": {
   "display_name": "Python 3",
   "language": "python",
   "name": "python3"
  },
  "language_info": {
   "codemirror_mode": {
    "name": "ipython",
    "version": 3
   },
   "file_extension": ".py",
   "mimetype": "text/x-python",
   "name": "python",
   "nbconvert_exporter": "python",
   "pygments_lexer": "ipython3",
   "version": "3.10.11"
  }
 },
 "nbformat": 4,
 "nbformat_minor": 2
}
