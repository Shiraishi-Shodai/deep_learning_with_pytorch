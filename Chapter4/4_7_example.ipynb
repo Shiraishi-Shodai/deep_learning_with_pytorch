{
 "cells": [
  {
   "cell_type": "markdown",
   "metadata": {},
   "source": [
    "# 第４章　演習問題"
   ]
  },
  {
   "cell_type": "markdown",
   "metadata": {},
   "source": [
    "## Question1"
   ]
  },
  {
   "cell_type": "markdown",
   "metadata": {},
   "source": [
    "### a 各画像を読み込みテンソルに変換"
   ]
  },
  {
   "cell_type": "code",
   "execution_count": 64,
   "metadata": {},
   "outputs": [
    {
     "name": "stdout",
     "output_type": "stream",
     "text": [
      "torch.Size([3, 256, 256])\n",
      "torch.Size([3, 256, 256])\n",
      "torch.Size([4, 256, 256])\n",
      "tensor([[[[1.0000, 1.0000, 1.0000,  ..., 0.9373, 0.9373, 0.9373],\n",
      "          [1.0000, 1.0000, 1.0000,  ..., 0.9373, 0.9373, 0.9373],\n",
      "          [1.0000, 1.0000, 1.0000,  ..., 0.9373, 0.9373, 0.9373],\n",
      "          ...,\n",
      "          [0.9373, 0.9373, 0.9373,  ..., 1.0000, 1.0000, 1.0000],\n",
      "          [0.9373, 0.9373, 0.9373,  ..., 1.0000, 1.0000, 1.0000],\n",
      "          [0.9373, 0.9373, 0.9373,  ..., 1.0000, 1.0000, 1.0000]],\n",
      "\n",
      "         [[1.0000, 1.0000, 1.0000,  ..., 0.9373, 0.9373, 0.9373],\n",
      "          [1.0000, 1.0000, 1.0000,  ..., 0.9373, 0.9373, 0.9373],\n",
      "          [1.0000, 1.0000, 1.0000,  ..., 0.9373, 0.9373, 0.9373],\n",
      "          ...,\n",
      "          [0.9373, 0.9373, 0.9373,  ..., 1.0000, 1.0000, 1.0000],\n",
      "          [0.9373, 0.9373, 0.9373,  ..., 1.0000, 1.0000, 1.0000],\n",
      "          [0.9373, 0.9373, 0.9373,  ..., 1.0000, 1.0000, 1.0000]],\n",
      "\n",
      "         [[1.0000, 1.0000, 1.0000,  ..., 0.9333, 0.9333, 0.9333],\n",
      "          [1.0000, 1.0000, 1.0000,  ..., 0.9333, 0.9333, 0.9333],\n",
      "          [1.0000, 1.0000, 1.0000,  ..., 0.9333, 0.9333, 0.9333],\n",
      "          ...,\n",
      "          [0.9333, 0.9333, 0.9333,  ..., 1.0000, 1.0000, 1.0000],\n",
      "          [0.9333, 0.9333, 0.9333,  ..., 1.0000, 1.0000, 1.0000],\n",
      "          [0.9333, 0.9333, 0.9333,  ..., 1.0000, 1.0000, 1.0000]]],\n",
      "\n",
      "\n",
      "        [[[0.9333, 0.9333, 0.9333,  ..., 0.9333, 0.9333, 0.9333],\n",
      "          [0.9333, 0.9333, 0.9333,  ..., 0.9333, 0.9333, 0.9333],\n",
      "          [0.9333, 0.9333, 0.9333,  ..., 0.9333, 0.9333, 0.9333],\n",
      "          ...,\n",
      "          [0.9333, 0.9333, 0.9333,  ..., 0.9333, 0.9333, 0.9333],\n",
      "          [0.9333, 0.9333, 0.9333,  ..., 0.9333, 0.9333, 0.9333],\n",
      "          [0.9333, 0.9333, 0.9333,  ..., 0.9333, 0.9333, 0.9333]],\n",
      "\n",
      "         [[0.9333, 0.9333, 0.9333,  ..., 0.9333, 0.9333, 0.9333],\n",
      "          [0.9333, 0.9333, 0.9333,  ..., 0.9333, 0.9333, 0.9333],\n",
      "          [0.9333, 0.9333, 0.9333,  ..., 0.9333, 0.9333, 0.9333],\n",
      "          ...,\n",
      "          [0.9333, 0.9333, 0.9333,  ..., 0.9333, 0.9333, 0.9333],\n",
      "          [0.9333, 0.9333, 0.9333,  ..., 0.9333, 0.9333, 0.9333],\n",
      "          [0.9333, 0.9333, 0.9333,  ..., 0.9333, 0.9333, 0.9333]],\n",
      "\n",
      "         [[0.9333, 0.9333, 0.9333,  ..., 0.9333, 0.9333, 0.9333],\n",
      "          [0.9333, 0.9333, 0.9333,  ..., 0.9333, 0.9333, 0.9333],\n",
      "          [0.9333, 0.9333, 0.9333,  ..., 0.9333, 0.9333, 0.9333],\n",
      "          ...,\n",
      "          [0.9333, 0.9333, 0.9333,  ..., 0.9333, 0.9333, 0.9333],\n",
      "          [0.9333, 0.9333, 0.9333,  ..., 0.9333, 0.9333, 0.9333],\n",
      "          [0.9333, 0.9333, 0.9333,  ..., 0.9333, 0.9333, 0.9333]]],\n",
      "\n",
      "\n",
      "        [[[1.0000, 1.0000, 1.0000,  ..., 1.0000, 1.0000, 1.0000],\n",
      "          [1.0000, 1.0000, 1.0000,  ..., 1.0000, 1.0000, 1.0000],\n",
      "          [1.0000, 1.0000, 1.0000,  ..., 1.0000, 1.0000, 1.0000],\n",
      "          ...,\n",
      "          [1.0000, 1.0000, 1.0000,  ..., 1.0000, 1.0000, 1.0000],\n",
      "          [1.0000, 1.0000, 1.0000,  ..., 1.0000, 1.0000, 1.0000],\n",
      "          [1.0000, 1.0000, 1.0000,  ..., 1.0000, 1.0000, 1.0000]],\n",
      "\n",
      "         [[1.0000, 1.0000, 1.0000,  ..., 1.0000, 1.0000, 1.0000],\n",
      "          [1.0000, 1.0000, 1.0000,  ..., 1.0000, 1.0000, 1.0000],\n",
      "          [1.0000, 1.0000, 1.0000,  ..., 1.0000, 1.0000, 1.0000],\n",
      "          ...,\n",
      "          [1.0000, 1.0000, 1.0000,  ..., 1.0000, 1.0000, 1.0000],\n",
      "          [1.0000, 1.0000, 1.0000,  ..., 1.0000, 1.0000, 1.0000],\n",
      "          [1.0000, 1.0000, 1.0000,  ..., 1.0000, 1.0000, 1.0000]],\n",
      "\n",
      "         [[1.0000, 1.0000, 1.0000,  ..., 1.0000, 1.0000, 1.0000],\n",
      "          [1.0000, 1.0000, 1.0000,  ..., 1.0000, 1.0000, 1.0000],\n",
      "          [1.0000, 1.0000, 1.0000,  ..., 1.0000, 1.0000, 1.0000],\n",
      "          ...,\n",
      "          [1.0000, 1.0000, 1.0000,  ..., 1.0000, 1.0000, 1.0000],\n",
      "          [1.0000, 1.0000, 1.0000,  ..., 1.0000, 1.0000, 1.0000],\n",
      "          [1.0000, 1.0000, 1.0000,  ..., 1.0000, 1.0000, 1.0000]]]])\n"
     ]
    },
    {
     "name": "stderr",
     "output_type": "stream",
     "text": [
      "C:\\Users\\shodai\\AppData\\Local\\Temp\\ipykernel_2548\\4227289001.py:16: DeprecationWarning: Starting with ImageIO v3 the behavior of this function will switch to that of iio.v3.imread. To keep the current behavior (and make this warning disappear) use `import imageio.v2 as imageio` or call `imageio.v2.imread` directly.\n",
      "  img_n = imageio.imread(os.path.join(dir_path, filename))\n",
      "C:\\Users\\shodai\\AppData\\Local\\Packages\\PythonSoftwareFoundation.Python.3.10_qbz5n2kfra8p0\\LocalCache\\local-packages\\Python310\\site-packages\\torchvision\\transforms\\functional.py:1603: UserWarning: The default value of the antialias parameter of all the resizing transforms (Resize(), RandomResizedCrop(), etc.) will change from None to True in v0.17, in order to be consistent across the PIL and Tensor backends. To suppress this warning, directly pass antialias=True (recommended, future default), antialias=None (current default, which means False for Tensors and True for PIL), or antialias=False (only works on Tensors - PIL will still use antialiasing). This also applies if you are using the inference transforms from the models weights: update the call to weights.transforms(antialias=True).\n",
      "  warnings.warn(\n"
     ]
    }
   ],
   "source": [
    "import torch\n",
    "import imageio\n",
    "import os\n",
    "import torchvision.transforms as transforms\n",
    "\n",
    "dir_path = r'C:\\Users\\shodai\\Desktop\\PyTorch_Introduction\\data\\p1ch4\\rgb_test'\n",
    "resize = transforms.Resize((256, 256))\n",
    "\n",
    "filenames = [name for name in os.listdir(dir_path)\n",
    "             if os.path.splitext(name)[-1] == '.png']\n",
    "\n",
    "batch_size = len(filenames)\n",
    "batch_t = torch.zeros(batch_size, 3, 256, 256, dtype=torch.float32)\n",
    "\n",
    "for i, filename in enumerate(filenames):\n",
    "    img_n = imageio.imread(os.path.join(dir_path, filename))\n",
    "    img_t = torch.from_numpy(img_n)\n",
    "    img_t = img_t.permute(2, 0, 1) # (h, w, c)を(c, h, w)に変換\n",
    "    img_t = resize(img_t) # リサイズ\n",
    "    img_t = img_t.float()\n",
    "    batch_t[i] = img_t[:3]\n",
    "\n",
    "batch_normalization = batch_t / 255.0 # 正規化\n",
    "\n",
    "print(batch_normalization)\n",
    "    "
   ]
  },
  {
   "cell_type": "markdown",
   "metadata": {},
   "source": [
    "### b 各画像のテンソルから画像の明るさを求める"
   ]
  },
  {
   "cell_type": "code",
   "execution_count": 65,
   "metadata": {},
   "outputs": [
    {
     "name": "stdout",
     "output_type": "stream",
     "text": [
      "torch.Size([3, 256, 256])\n"
     ]
    }
   ],
   "source": [
    "import numpy as np\n",
    "means = torch.zeros(batch_size, 256, 256)\n",
    "\n",
    "for i, img in enumerate(batch_t):\n",
    "    m = torch.mean(img, dim=0)\n",
    "    means[i] = m\n",
    "\n",
    "print(means.shape)"
   ]
  },
  {
   "cell_type": "markdown",
   "metadata": {},
   "source": [
    "### c 各画像の各チャンネルの平均を取ってください。求めたチャンネルの平均値だけから、赤、緑、青の物体を識別できるか確認してください。"
   ]
  },
  {
   "cell_type": "code",
   "execution_count": 67,
   "metadata": {},
   "outputs": [
    {
     "name": "stdout",
     "output_type": "stream",
     "text": [
      "['blue.png', 'green.png', 'red.png']\n",
      "tensor([136.0672, 184.0344, 227.3976])\n",
      "tensor([181.8174, 214.0244, 175.6966])\n",
      "tensor([234.9821, 183.0724, 172.1080])\n"
     ]
    }
   ],
   "source": [
    "print(filenames)\n",
    "for img in batch_t:\n",
    "    print(img.mean(dim=1).mean(dim=1))"
   ]
  }
 ],
 "metadata": {
  "kernelspec": {
   "display_name": "Python 3",
   "language": "python",
   "name": "python3"
  },
  "language_info": {
   "codemirror_mode": {
    "name": "ipython",
    "version": 3
   },
   "file_extension": ".py",
   "mimetype": "text/x-python",
   "name": "python",
   "nbconvert_exporter": "python",
   "pygments_lexer": "ipython3",
   "version": "3.10.0"
  }
 },
 "nbformat": 4,
 "nbformat_minor": 2
}
