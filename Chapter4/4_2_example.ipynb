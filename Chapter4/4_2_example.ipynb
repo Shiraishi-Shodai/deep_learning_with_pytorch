{
 "cells": [
  {
   "cell_type": "markdown",
   "metadata": {},
   "source": [
    "# 3次元データ"
   ]
  },
  {
   "cell_type": "code",
   "execution_count": 1,
   "metadata": {},
   "outputs": [],
   "source": [
    "import torch"
   ]
  },
  {
   "cell_type": "code",
   "execution_count": 4,
   "metadata": {},
   "outputs": [
    {
     "name": "stdout",
     "output_type": "stream",
     "text": [
      "Reading DICOM (examining files): 1/99 files (1.0%)"
     ]
    },
    {
     "name": "stdout",
     "output_type": "stream",
     "text": [
      "\b93/99 files (93.9%99/99 files (100.0%)\n",
      "  Found 1 correct series.\n",
      "Reading DICOM (loading data): 62/99  (62.699/99  (100.0%)\n",
      "(99, 512, 512)\n",
      "torch.Size([1, 99, 512, 512])\n"
     ]
    }
   ],
   "source": [
    "import imageio\n",
    "\n",
    "dir_path = r'../data/p1ch4/volumetric-dicom/2-LUNG 3.0  B70f-04083'\n",
    "val_arr = imageio.volread(dir_path, 'DICOM')\n",
    "print(val_arr.shape)\n",
    "\n",
    "\n",
    "val = torch.from_numpy(val_arr)\n",
    "val = torch.unsqueeze(val, 0)\n",
    "print(val.shape)"
   ]
  }
 ],
 "metadata": {
  "kernelspec": {
   "display_name": "Python 3",
   "language": "python",
   "name": "python3"
  },
  "language_info": {
   "codemirror_mode": {
    "name": "ipython",
    "version": 3
   },
   "file_extension": ".py",
   "mimetype": "text/x-python",
   "name": "python",
   "nbconvert_exporter": "python",
   "pygments_lexer": "ipython3",
   "version": "3.10.11"
  }
 },
 "nbformat": 4,
 "nbformat_minor": 2
}
