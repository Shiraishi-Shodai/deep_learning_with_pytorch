{
 "cells": [
  {
   "cell_type": "code",
   "execution_count": 1,
   "metadata": {},
   "outputs": [],
   "source": [
    "import torch\n",
    "from torchvision import datasets, transforms\n",
    "from matplotlib import pyplot as plt\n",
    "import japanize_matplotlib\n",
    "import torch.nn as nn\n",
    "import torch.optim as optim\n",
    "import numpy as np"
   ]
  },
  {
   "cell_type": "markdown",
   "metadata": {},
   "source": [
    "### 1 データの取得"
   ]
  },
  {
   "cell_type": "code",
   "execution_count": 2,
   "metadata": {},
   "outputs": [],
   "source": [
    "import torch.utils\n",
    "import torch.utils.data\n",
    "\n",
    "data_path = '../data/p1ch7'\n",
    "\n",
    "trainset = datasets.CIFAR10(data_path,\n",
    "                            train=True,\n",
    "                            transform=transforms.Compose([\n",
    "                                transforms.ToTensor(),\n",
    "                                # transforms.Normalize(())\n",
    "                                ]),\n",
    "                            download=False)\n",
    "testset = datasets.CIFAR10(data_path, train=False, transform=transforms.ToTensor(), download=False)\n"
   ]
  },
  {
   "cell_type": "markdown",
   "metadata": {},
   "source": [
    "学習データ画像の平均と標準偏差を計算"
   ]
  },
  {
   "cell_type": "code",
   "execution_count": 3,
   "metadata": {},
   "outputs": [
    {
     "name": "stdout",
     "output_type": "stream",
     "text": [
      "torch.Size([3, 32, 32, 50000])\n",
      "torch.Size([3, 51200000])\n",
      "tensor([0.4914, 0.4822, 0.4465])\n",
      "tensor([0.2470, 0.2435, 0.2616])\n"
     ]
    }
   ],
   "source": [
    "imgs = torch.stack([img_t for img_t, _ in trainset], dim=3)\n",
    "print(imgs.shape)\n",
    "print(imgs.view(3, -1).shape)\n",
    "print(imgs.view(3, -1).mean(dim=1)) # 行方向に平均\n",
    "print(imgs.view(3, -1).std(dim=1)) # 列方向に標準偏差を計算"
   ]
  },
  {
   "cell_type": "markdown",
   "metadata": {},
   "source": [
    "テストデータ画像の平均と標準偏差を計算"
   ]
  },
  {
   "cell_type": "code",
   "execution_count": 4,
   "metadata": {},
   "outputs": [
    {
     "name": "stdout",
     "output_type": "stream",
     "text": [
      "tensor([0.4942, 0.4851, 0.4504])\n",
      "tensor([0.2467, 0.2429, 0.2616])\n"
     ]
    }
   ],
   "source": [
    "imgs = torch.stack([img_t for img_t, _ in testset], dim=3)\n",
    "print(imgs.view(3, -1).mean(dim=1))\n",
    "print(imgs.view(3, -1).std(dim=1))"
   ]
  },
  {
   "cell_type": "markdown",
   "metadata": {},
   "source": [
    "画像を正規化(標準化)してデータを取得"
   ]
  },
  {
   "cell_type": "code",
   "execution_count": 5,
   "metadata": {},
   "outputs": [],
   "source": [
    "trainset = datasets.CIFAR10(data_path,\n",
    "                            download=False,\n",
    "                            train=True,\n",
    "                            transform=transforms.Compose([\n",
    "                                transforms.ToTensor(),\n",
    "                                transforms.Normalize(\n",
    "                                    (0.4914, 0.4822, 0.4465),\n",
    "                                    (0.2470, 0.2435, 0.2616)\n",
    "                                )\n",
    "                            ]))\n",
    "\n",
    "testset = datasets.CIFAR10(data_path,\n",
    "                            download=False,\n",
    "                            train=False,\n",
    "                            transform=transforms.Compose([\n",
    "                                transforms.ToTensor(),\n",
    "                                transforms.Normalize(\n",
    "                                    (0.4942, 0.4851, 0.4504),\n",
    "                                    (0.2467, 0.2429, 0.2616)\n",
    "                                )\n",
    "                            ]))\n",
    "\n"
   ]
  },
  {
   "cell_type": "markdown",
   "metadata": {},
   "source": [
    "飛行機と鳥のデータのみを抽出"
   ]
  },
  {
   "cell_type": "code",
   "execution_count": 6,
   "metadata": {},
   "outputs": [],
   "source": [
    "labels = [\"airplane\", \"bird\"]\n",
    "label_map = {0:0, 2: 1}\n",
    "\n",
    "cifar2 = [(img_t, label_map[label])\n",
    "          for img_t, label in trainset\n",
    "          if label in label_map.keys()]\n",
    "\n",
    "cifar2_val = [\n",
    "    (img_t, label_map[label])\n",
    "    for img_t, label in testset\n",
    "    if label in label_map.keys()\n",
    "]"
   ]
  },
  {
   "cell_type": "code",
   "execution_count": 7,
   "metadata": {},
   "outputs": [
    {
     "name": "stderr",
     "output_type": "stream",
     "text": [
      "Clipping input data to the valid range for imshow with RGB data ([0..1] for floats or [0..255] for integers).\n"
     ]
    },
    {
     "data": {
      "image/png": "[encoded data removed]",
      "text/plain": [
       "<Figure size 640x480 with 1 Axes>"
      ]
     },
     "metadata": {},
     "output_type": "display_data"
    }
   ],
   "source": [
    "img = cifar2[0][0]\n",
    "plt.imshow(img.permute(1, 2, 0))\n",
    "plt.show()"
   ]
  },
  {
   "cell_type": "markdown",
   "metadata": {},
   "source": [
    "### 2. モデルの構築"
   ]
  },
  {
   "cell_type": "code",
   "execution_count": 47,
   "metadata": {},
   "outputs": [],
   "source": [
    "model = nn.Sequential(\n",
    "    nn.Linear(3072, 512),\n",
    "    nn.Tanh(),\n",
    "    nn.Linear(512, 2),\n",
    "    nn.LogSoftmax(dim=1)\n",
    "    # nn.Softmax(dim=1)\n",
    ")\n"
   ]
  },
  {
   "cell_type": "markdown",
   "metadata": {},
   "source": [
    "### 3. 学習"
   ]
  },
  {
   "cell_type": "markdown",
   "metadata": {},
   "source": [
    "バッチサイズごとにデータをロード"
   ]
  },
  {
   "cell_type": "code",
   "execution_count": 48,
   "metadata": {},
   "outputs": [],
   "source": [
    "epochs = 10\n",
    "batch_size = 100\n",
    "lr = 1e-2\n",
    "loss_fn = nn.NLLLoss()\n",
    "# loss_fn = nn.MSELoss()\n",
    "\n",
    "optimizer = optim.SGD(model.parameters(), lr)\n",
    "trainloader = torch.utils.data.DataLoader(cifar2, batch_size=batch_size, shuffle=True)\n",
    "testloader = torch.utils.data.DataLoader(cifar2_val, batch_size=batch_size, shuffle=False)"
   ]
  },
  {
   "cell_type": "code",
   "execution_count": 49,
   "metadata": {},
   "outputs": [
    {
     "name": "stderr",
     "output_type": "stream",
     "text": [
      "/tmp/ipykernel_464924/454496518.py:8: UserWarning: To copy construct from a tensor, it is recommended to use sourceTensor.clone().detach() or sourceTensor.clone().detach().requires_grad_(True), rather than torch.tensor(sourceTensor).\n",
      "  loss = loss_fn(output, torch.tensor(labels))\n"
     ]
    },
    {
     "name": "stdout",
     "output_type": "stream",
     "text": [
      "Epoch1: Loss: 0.42796260118484497\n",
      "Epoch2: Loss: 0.4793960154056549\n",
      "Epoch3: Loss: 0.37070369720458984\n",
      "Epoch4: Loss: 0.44917184114456177\n",
      "Epoch5: Loss: 0.3891844153404236\n",
      "Epoch6: Loss: 0.2979045808315277\n",
      "Epoch7: Loss: 0.33027324080467224\n",
      "Epoch8: Loss: 0.3647318184375763\n",
      "Epoch9: Loss: 0.3821655213832855\n",
      "Epoch10: Loss: 0.4260682761669159\n",
      "Accuracy: 80.44300079345703 %\n"
     ]
    }
   ],
   "source": [
    "correct = 0\n",
    "total = 0\n",
    "\n",
    "for epoch in range(1, epochs + 1):\n",
    "    for imgs, labels in trainloader:\n",
    "        imgs = imgs.view(batch_size, -1)\n",
    "        output = model(imgs)\n",
    "        loss = loss_fn(output, torch.tensor(labels))\n",
    "        \n",
    "        # MSEを使った損失計算\n",
    "        # tmp = torch.zeros((batch_size, 2))\n",
    "        # for row, l in zip(tmp, labels):\n",
    "        #     row[l] = 1\n",
    "        \n",
    "        optimizer.zero_grad()\n",
    "        loss.backward()\n",
    "        optimizer.step()\n",
    "        \n",
    "        _, index = torch.max(output, dim=1)\n",
    "        correct += torch.tensor([labels[i] == index[i] for i in range(0, len(labels))]).sum()\n",
    "        total += batch_size\n",
    "    print(f'Epoch{epoch}: Loss: {loss}')\n",
    "\n",
    "print(f'Accuracy: {(correct / total)*100} %')"
   ]
  },
  {
   "cell_type": "markdown",
   "metadata": {},
   "source": [
    "### 4. テスト"
   ]
  },
  {
   "cell_type": "code",
   "execution_count": 50,
   "metadata": {},
   "outputs": [
    {
     "name": "stdout",
     "output_type": "stream",
     "text": [
      "Accuracy: 82.05 %\n"
     ]
    }
   ],
   "source": [
    "correct = 0\n",
    "total = 0\n",
    "\n",
    "with torch.no_grad():\n",
    "    for imgs, labels in testloader:\n",
    "        imgs = imgs.view(batch_size, -1)\n",
    "        output = model(imgs)\n",
    "        \n",
    "        _, index = torch.max(output, dim=1)\n",
    "        \n",
    "        correct += int((index == labels).sum())\n",
    "        total += batch_size\n",
    "\n",
    "print(f'Accuracy: {(correct / total) *100} %')"
   ]
  },
  {
   "cell_type": "code",
   "execution_count": null,
   "metadata": {},
   "outputs": [],
   "source": []
  }
 ],
 "metadata": {
  "kernelspec": {
   "display_name": "Python 3",
   "language": "python",
   "name": "python3"
  },
  "language_info": {
   "codemirror_mode": {
    "name": "ipython",
    "version": 3
   },
   "file_extension": ".py",
   "mimetype": "text/x-python",
   "name": "python",
   "nbconvert_exporter": "python",
   "pygments_lexer": "ipython3",
   "version": "3.10.11"
  }
 },
 "nbformat": 4,
 "nbformat_minor": 2
}
