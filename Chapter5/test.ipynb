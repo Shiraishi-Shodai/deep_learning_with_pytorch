{
 "cells": [
  {
   "cell_type": "markdown",
   "metadata": {},
   "source": [
    "## [1] モデルをw2 * t_u ** 2 + w1 * t_u + bとして再定義してください"
   ]
  },
  {
   "cell_type": "markdown",
   "metadata": {},
   "source": [
    "### （a）再定義を行うために、トレーニングループのどの部分を変更する必要がありますか？"
   ]
  },
  {
   "cell_type": "code",
   "execution_count": 4,
   "metadata": {},
   "outputs": [],
   "source": [
    "import torch\n",
    "import torch.optim as optim\n",
    "\n",
    "t_c = [0.5,  14.0, 15.0, 28.0, 11.0,  8.0,  3.0, -4.0,  6.0, 13.0, 21.0]\n",
    "t_u = [35.7, 55.9, 58.2, 81.9, 56.3, 48.9, 33.9, 21.8, 48.4, 60.4, 68.4]\n",
    "t_c = torch.tensor(t_c)\n",
    "t_u = torch.tensor(t_u)\n",
    "t_un = t_u * 0.1\n",
    "\n",
    "params = torch.tensor([1.5, 1.0, 0.0], requires_grad=True)"
   ]
  },
  {
   "cell_type": "code",
   "execution_count": 5,
   "metadata": {},
   "outputs": [],
   "source": [
    "def model(t_un, w1, w2, b):\n",
    "    return (t_un * w2)**2 + (t_un * w1) + b # ここ\n",
    "\n",
    "def loss_fn(t_p, t_c):\n",
    "    squared_diffs = (t_p - t_c)**2\n",
    "    return squared_diffs.mean()"
   ]
  },
  {
   "cell_type": "code",
   "execution_count": 6,
   "metadata": {},
   "outputs": [],
   "source": [
    "def training_loop(n_epochs, t_un, t_c, params, optimizer):\n",
    "    \n",
    "    for epoch in range(1, n_epochs + 1):\n",
    "        \n",
    "        t_p = model(t_un, *params)\n",
    "        loss = loss_fn(t_p, t_c)\n",
    "        \n",
    "        optimizer.zero_grad()\n",
    "        loss.backward()\n",
    "        optimizer.step()\n",
    "        \n",
    "        if epoch % 500 == 0:\n",
    "            print(f'epoch : {epoch}, loss : {loss}')\n",
    "        \n",
    "    return params\n",
    "    "
   ]
  },
  {
   "cell_type": "code",
   "execution_count": 8,
   "metadata": {},
   "outputs": [
    {
     "name": "stdout",
     "output_type": "stream",
     "text": [
      "epoch : 500, loss : 8.104613304138184\n",
      "epoch : 1000, loss : 4.294132709503174\n",
      "epoch : 1500, loss : 3.015126943588257\n",
      "epoch : 2000, loss : 2.788844108581543\n",
      "epoch : 2500, loss : 2.7333765029907227\n",
      "epoch : 3000, loss : 2.681101083755493\n",
      "epoch : 3500, loss : 2.619769811630249\n",
      "epoch : 4000, loss : 2.549818992614746\n",
      "epoch : 4500, loss : 2.4731574058532715\n",
      "epoch : 5000, loss : 2.39311146736145\n"
     ]
    },
    {
     "data": {
      "text/plain": [
       "tensor([ 0.7203,  0.6669, -6.2734], requires_grad=True)"
      ]
     },
     "execution_count": 8,
     "metadata": {},
     "output_type": "execute_result"
    }
   ],
   "source": [
    "learning_rate = 1e-2\n",
    "optimizer = optim.Adam([params], lr=learning_rate)\n",
    "training_loop(n_epochs = 5000,\n",
    "              t_un = t_un,\n",
    "              t_c = t_c,\n",
    "              params = params,\n",
    "              optimizer=optimizer\n",
    "              )"
   ]
  },
  {
   "cell_type": "code",
   "execution_count": 15,
   "metadata": {},
   "outputs": [
    {
     "name": "stdout",
     "output_type": "stream",
     "text": [
      "None\n"
     ]
    }
   ],
   "source": [
    "\n"
   ]
  },
  {
   "cell_type": "code",
   "execution_count": null,
   "metadata": {},
   "outputs": [],
   "source": []
  }
 ],
 "metadata": {
  "kernelspec": {
   "display_name": "Python 3",
   "language": "python",
   "name": "python3"
  },
  "language_info": {
   "codemirror_mode": {
    "name": "ipython",
    "version": 3
   },
   "file_extension": ".py",
   "mimetype": "text/x-python",
   "name": "python",
   "nbconvert_exporter": "python",
   "pygments_lexer": "ipython3",
   "version": "3.10.11"
  }
 },
 "nbformat": 4,
 "nbformat_minor": 2
}
